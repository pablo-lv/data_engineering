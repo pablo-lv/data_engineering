{
 "cells": [
  {
   "cell_type": "code",
   "execution_count": null,
   "id": "37a9f69a-0f88-478a-95dc-0b0cb77374a4",
   "metadata": {},
   "outputs": [],
   "source": [
    "import pyspark\n",
    "from pyspark import SparkContext\n",
    "sc = SparkContext()\n",
    "spark = pyspark.sql.SparkSession(sc, jsparkSession=None)"
   ]
  },
  {
   "cell_type": "markdown",
   "id": "66870bd9-4511-4d75-98c9-7800dee2fd8f",
   "metadata": {},
   "source": [
    "Read File"
   ]
  },
  {
   "cell_type": "code",
   "execution_count": 5,
   "id": "d077ca02-d7a1-4b4e-9c1f-3ad45e8f43e0",
   "metadata": {},
   "outputs": [],
   "source": [
    "bookDF = spark.read.json(\"bookcontents.json\")"
   ]
  },
  {
   "cell_type": "markdown",
   "id": "6a812659-1cba-4b95-ba5b-7837b30ade9c",
   "metadata": {},
   "source": [
    "Schema"
   ]
  },
  {
   "cell_type": "code",
   "execution_count": 6,
   "id": "d396756c-17f5-4f2e-8087-a1293d662437",
   "metadata": {},
   "outputs": [
    {
     "name": "stdout",
     "output_type": "stream",
     "text": [
      "root\n",
      " |-- Chapter: long (nullable = true)\n",
      " |-- Name: string (nullable = true)\n",
      " |-- Page: long (nullable = true)\n",
      "\n"
     ]
    }
   ],
   "source": [
    "bookDF.printSchema()"
   ]
  },
  {
   "cell_type": "markdown",
   "id": "9f959b44-22f9-40dc-8c01-acb8c8e0530b",
   "metadata": {},
   "source": [
    "Action"
   ]
  },
  {
   "cell_type": "code",
   "execution_count": 7,
   "id": "3165bd00-c738-4cd5-99b3-50f6439d4cfd",
   "metadata": {},
   "outputs": [
    {
     "name": "stdout",
     "output_type": "stream",
     "text": [
      "+-------+--------------------+----+\n",
      "|Chapter|                Name|Page|\n",
      "+-------+--------------------+----+\n",
      "|      1|        Introduction|  11|\n",
      "|      2|Basic Engineering...|  19|\n",
      "|      3|Advanced Engineer...|  28|\n",
      "|      4|     Hands On Course|  60|\n",
      "|      5|        Case Studies|  62|\n",
      "|      6|Best Practices Cl...|  73|\n",
      "|      7|130+ Data Sources...|  77|\n",
      "|      8|1001 Interview Qu...|  82|\n",
      "|      9|Recommended Books...|  87|\n",
      "+-------+--------------------+----+\n",
      "\n"
     ]
    }
   ],
   "source": [
    "bookDF.show()"
   ]
  },
  {
   "cell_type": "markdown",
   "id": "be39f533-9eb1-4427-8160-91774ab64ae8",
   "metadata": {},
   "source": [
    "Transformations"
   ]
  },
  {
   "cell_type": "code",
   "execution_count": 8,
   "id": "991e102b-69bd-48cc-86f9-c9c629125850",
   "metadata": {},
   "outputs": [],
   "source": [
    "ChapterAndNameDF = bookDF.select(\"Chapter\", \"Name\")"
   ]
  },
  {
   "cell_type": "code",
   "execution_count": 9,
   "id": "d448ed87-d097-4858-b7ef-ad26cb2f61a2",
   "metadata": {},
   "outputs": [
    {
     "name": "stdout",
     "output_type": "stream",
     "text": [
      "+-------+--------------------+\n",
      "|Chapter|                Name|\n",
      "+-------+--------------------+\n",
      "|      1|        Introduction|\n",
      "|      2|Basic Engineering...|\n",
      "|      3|Advanced Engineer...|\n",
      "|      4|     Hands On Course|\n",
      "|      5|        Case Studies|\n",
      "|      6|Best Practices Cl...|\n",
      "|      7|130+ Data Sources...|\n",
      "|      8|1001 Interview Qu...|\n",
      "|      9|Recommended Books...|\n",
      "+-------+--------------------+\n",
      "\n"
     ]
    }
   ],
   "source": [
    "ChapterAndNameDF.show()"
   ]
  },
  {
   "cell_type": "code",
   "execution_count": 10,
   "id": "dc3f16d1-e8ed-4f24-ad9e-0d9c71065bc8",
   "metadata": {},
   "outputs": [],
   "source": [
    "Chapter1to4 = ChapterAndNameDF.where(\"Chapter < 4\")"
   ]
  },
  {
   "cell_type": "code",
   "execution_count": 11,
   "id": "73ebd331-7459-484c-9772-2ca82e7023ca",
   "metadata": {},
   "outputs": [
    {
     "name": "stdout",
     "output_type": "stream",
     "text": [
      "+-------+--------------------+\n",
      "|Chapter|                Name|\n",
      "+-------+--------------------+\n",
      "|      1|        Introduction|\n",
      "|      2|Basic Engineering...|\n",
      "|      3|Advanced Engineer...|\n",
      "+-------+--------------------+\n",
      "\n"
     ]
    }
   ],
   "source": [
    "Chapter1to4.show()"
   ]
  },
  {
   "cell_type": "markdown",
   "id": "97ecf471-f6b5-47b2-be7f-22869611eaae",
   "metadata": {},
   "source": [
    "Chaining -> Query "
   ]
  },
  {
   "cell_type": "code",
   "execution_count": 12,
   "id": "b2a4a53b-ad02-4b9f-b4f0-3d29c7774c86",
   "metadata": {},
   "outputs": [
    {
     "name": "stdout",
     "output_type": "stream",
     "text": [
      "+-------+--------------------+\n",
      "|Chapter|                Name|\n",
      "+-------+--------------------+\n",
      "|      1|        Introduction|\n",
      "|      2|Basic Engineering...|\n",
      "|      3|Advanced Engineer...|\n",
      "|      4|     Hands On Course|\n",
      "+-------+--------------------+\n",
      "\n"
     ]
    }
   ],
   "source": [
    "bookDF.select(\"Chapter\", \"Name\").where(\"Chapter < 5\").show()"
   ]
  },
  {
   "cell_type": "markdown",
   "id": "46cc3917-f25b-4c0e-86d5-44adfc37a1f2",
   "metadata": {},
   "source": [
    "Write As JSON"
   ]
  },
  {
   "cell_type": "code",
   "execution_count": 13,
   "id": "c768d777-3fb1-49df-b3d1-4c627aa91367",
   "metadata": {},
   "outputs": [],
   "source": [
    "Chapter1to4.write.json(\"Contents1to4\")"
   ]
  },
  {
   "cell_type": "code",
   "execution_count": null,
   "id": "39fbc21d-0188-45f6-8b9c-be8048e85d0a",
   "metadata": {},
   "outputs": [],
   "source": []
  }
 ],
 "metadata": {
  "kernelspec": {
   "display_name": "Python 3 (ipykernel)",
   "language": "python",
   "name": "python3"
  },
  "language_info": {
   "codemirror_mode": {
    "name": "ipython",
    "version": 3
   },
   "file_extension": ".py",
   "mimetype": "text/x-python",
   "name": "python",
   "nbconvert_exporter": "python",
   "pygments_lexer": "ipython3",
   "version": "3.11.6"
  }
 },
 "nbformat": 4,
 "nbformat_minor": 5
}
